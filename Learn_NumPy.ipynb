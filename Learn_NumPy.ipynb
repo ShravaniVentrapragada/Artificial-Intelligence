{
  "nbformat": 4,
  "nbformat_minor": 0,
  "metadata": {
    "colab": {
      "name": "Learn_NumPy.ipynb",
      "provenance": [],
      "collapsed_sections": []
    },
    "kernelspec": {
      "name": "python3",
      "display_name": "Python 3"
    }
  },
  "cells": [
    {
      "cell_type": "markdown",
      "metadata": {
        "id": "JxmBmezNSbwU"
      },
      "source": [
        "##https://www.tutorialspoint.com/numpy/index.htm\n",
        "## https://numpy.org/devdocs/user/quickstart.html"
      ]
    },
    {
      "cell_type": "markdown",
      "metadata": {
        "id": "_6WpCqAIShSJ"
      },
      "source": [
        "###NumPy:Numerical Python"
      ]
    },
    {
      "cell_type": "code",
      "metadata": {
        "id": "h29ikDPZSKlQ",
        "colab": {
          "base_uri": "https://localhost:8080/",
          "height": 274
        },
        "outputId": "13e1b74c-95e9-4ac7-8b7c-24409cc5abb9"
      },
      "source": [
        "# Ndarray: N-dimensional array\n",
        "import numpy as np \n",
        "a = np.array([1,2,3])  # 1-D Array\n",
        "print (\"1-D Array:\",a)\n",
        "print('datatype of array:',a.dtype) # datatype of array\n",
        "print('dimension of array:',a.ndim) # dimension of array\n",
        "print('shape of array:',a.shape) # shape of array. returns tuple\n",
        "print('size of array:',a.size) # number of elements of the array. product of shape=1*3=3\n",
        "print('size of each element:',a.itemsize)#the size in bytes of each element of the array (if int64 then 64/8=8)\n",
        "print('****************************')\n",
        "b = np.array([[1.0, 2.], [3, 4]]) \n",
        "print (\"2-D Array:\", b)\n",
        "print('datatype of array:',b.dtype) # datatype of array\n",
        "print('dimension of array:',b.ndim) # dimension of array\n",
        "print('shape of array:',b.shape) # shape of array\n",
        "print('size of array:',b.size) # number of elements of the array. product of shape=2*2=4\n",
        "print('size of each element:',b.itemsize)#the size in bytes of each element of the array (if float64 then 64/8=8)"
      ],
      "execution_count": null,
      "outputs": [
        {
          "output_type": "stream",
          "text": [
            "1-D Array: [1 2 3]\n",
            "datatype of array: int64\n",
            "dimension of array: 1\n",
            "shape of array: (3,)\n",
            "size of array: 3\n",
            "size of each element: 8\n",
            "****************************\n",
            "2-D Array: [[1. 2.]\n",
            " [3. 4.]]\n",
            "datatype of array: float64\n",
            "dimension of array: 2\n",
            "shape of array: (2, 2)\n",
            "size of array: 4\n",
            "size of each element: 8\n"
          ],
          "name": "stdout"
        }
      ]
    },
    {
      "cell_type": "code",
      "metadata": {
        "id": "L5Qv7LfcTiS-",
        "colab": {
          "base_uri": "https://localhost:8080/",
          "height": 164
        },
        "outputId": "65d4f516-3a72-4369-b2f2-e886056387d2"
      },
      "source": [
        "c=np.array([[1] ,[2] ,[3]], dtype = complex)\n",
        "# c = np.array([[1 ,2 ,3]], dtype = complex).T\n",
        "print(\"1-D Array with complex values:\",c)\n",
        "print('datatype of array:',c.dtype) # datatype of array\n",
        "print('dimension of array:',c.ndim) # dimension of array\n",
        "print('shape of array:',c.shape) # shape of array\n",
        "print('size of array:',c.size) # number of elements of the array. product of shape=1*3=3\n",
        "print('size of each element:',c.itemsize)#the size in bytes of each element of the array (if complex128 then 128/8=16)"
      ],
      "execution_count": null,
      "outputs": [
        {
          "output_type": "stream",
          "text": [
            "1-D Array with complex values: [[1.+0.j]\n",
            " [2.+0.j]\n",
            " [3.+0.j]]\n",
            "datatype of array: complex128\n",
            "dimension of array: 2\n",
            "shape of array: (3, 1)\n",
            "size of array: 3\n",
            "size of each element: 16\n"
          ],
          "name": "stdout"
        }
      ]
    },
    {
      "cell_type": "code",
      "metadata": {
        "id": "dJxu2FnwUJ-8",
        "colab": {
          "base_uri": "https://localhost:8080/",
          "height": 182
        },
        "outputId": "c69240e6-8d62-46ae-b5f2-1c88a292a197"
      },
      "source": [
        "a = np.array([[1,2,3],[4,5,6]]) \n",
        "print(\"Array is :\",a)\n",
        "print (\"Array shape is:\",a.shape)#the dimensions of the array\n",
        "\n",
        "a.shape = (3,2)\n",
        "print(\"Reshape Array to (3,2):\",a)\n",
        "\n",
        "b = a.reshape(3,2) \n",
        "print (\"Reshape Array to (3,2) using reshape:\",b)"
      ],
      "execution_count": null,
      "outputs": [
        {
          "output_type": "stream",
          "text": [
            "Array is : [[1 2 3]\n",
            " [4 5 6]]\n",
            "Array shape is: (2, 3)\n",
            "Reshape Array to (3,2): [[1 2]\n",
            " [3 4]\n",
            " [5 6]]\n",
            "Reshape Array to (3,2) using reshape: [[1 2]\n",
            " [3 4]\n",
            " [5 6]]\n"
          ],
          "name": "stdout"
        }
      ]
    },
    {
      "cell_type": "code",
      "metadata": {
        "id": "C3FQWWPWU5fd",
        "colab": {
          "base_uri": "https://localhost:8080/",
          "height": 403
        },
        "outputId": "3e102fac-6d76-4f1e-8037-0d3e78c07046"
      },
      "source": [
        "import numpy as np \n",
        "a = np.arange(24) # create sequences of numbers and returns array\n",
        "print(a)\n",
        "print(a.ndim) \n",
        "\n",
        "aa=np.arange(10,40,5)\n",
        "print(\"aa:\",aa)\n",
        "\n",
        "ab=np.linspace( 10, 40, 5) \n",
        "print(\"ab:\",ab)\n",
        "\n",
        "\n",
        "x = np.linspace(10,20, 10, endpoint = False) # by default endpoint=true\n",
        "print (\"x:\",x)\n",
        "\n",
        "ac = np.logspace(10, 40, 9) # default base 10\n",
        "print (\"ac:\",ac)\n",
        "\n",
        "ad = np.logspace(10, 40, 9, base=2) \n",
        "print (\"ad:\",ad)\n",
        "\n",
        "b = a.reshape(2,4,3) \n",
        "print (\"b:\",b)\n",
        "print(b.ndim)"
      ],
      "execution_count": null,
      "outputs": [
        {
          "output_type": "stream",
          "text": [
            "[ 0  1  2  3  4  5  6  7  8  9 10 11 12 13 14 15 16 17 18 19 20 21 22 23]\n",
            "1\n",
            "aa: [10 15 20 25 30 35]\n",
            "ab: [10.  17.5 25.  32.5 40. ]\n",
            "x: [10. 11. 12. 13. 14. 15. 16. 17. 18. 19.]\n",
            "ac: [1.00000000e+10 5.62341325e+13 3.16227766e+17 1.77827941e+21\n",
            " 1.00000000e+25 5.62341325e+28 3.16227766e+32 1.77827941e+36\n",
            " 1.00000000e+40]\n",
            "ad: [1.02400000e+03 1.37772469e+04 1.85363800e+05 2.49394808e+06\n",
            " 3.35544320e+07 4.51452825e+08 6.07400100e+09 8.17216907e+10\n",
            " 1.09951163e+12]\n",
            "b: [[[ 0  1  2]\n",
            "  [ 3  4  5]\n",
            "  [ 6  7  8]\n",
            "  [ 9 10 11]]\n",
            "\n",
            " [[12 13 14]\n",
            "  [15 16 17]\n",
            "  [18 19 20]\n",
            "  [21 22 23]]]\n",
            "3\n"
          ],
          "name": "stdout"
        }
      ]
    },
    {
      "cell_type": "code",
      "metadata": {
        "id": "RbyHQibLdg3P",
        "colab": {
          "base_uri": "https://localhost:8080/",
          "height": 35
        },
        "outputId": "fe01135a-d4c2-4193-9771-2cb5b38f8a86"
      },
      "source": [
        "a = np.arange(15).reshape(3, 5)\n",
        "a.ndim #the number of axes (dimensions) of the array"
      ],
      "execution_count": null,
      "outputs": [
        {
          "output_type": "execute_result",
          "data": {
            "text/plain": [
              "2"
            ]
          },
          "metadata": {
            "tags": []
          },
          "execution_count": 22
        }
      ]
    },
    {
      "cell_type": "code",
      "metadata": {
        "id": "r9Y2RG8PeUO7",
        "colab": {
          "base_uri": "https://localhost:8080/",
          "height": 237
        },
        "outputId": "ad8a1aa7-c0d8-4fbf-af04-faf63ae256b9"
      },
      "source": [
        "a=np.zeros((3, 4))\n",
        "print(a)\n",
        "\n",
        "b=np.ones((2,3,4), dtype=np.int16)\n",
        "print(b)\n",
        "\n",
        "c=np.empty( (2,3) )\n",
        "print(c)"
      ],
      "execution_count": null,
      "outputs": [
        {
          "output_type": "stream",
          "text": [
            "[[0. 0. 0. 0.]\n",
            " [0. 0. 0. 0.]\n",
            " [0. 0. 0. 0.]]\n",
            "[[[1 1 1 1]\n",
            "  [1 1 1 1]\n",
            "  [1 1 1 1]]\n",
            "\n",
            " [[1 1 1 1]\n",
            "  [1 1 1 1]\n",
            "  [1 1 1 1]]]\n",
            "[[1.39069238e-309 1.39069238e-309 1.39069238e-309]\n",
            " [1.39069238e-309 1.39069238e-309 1.39069238e-309]]\n"
          ],
          "name": "stdout"
        }
      ]
    },
    {
      "cell_type": "code",
      "metadata": {
        "id": "cknGQcI2aUI_",
        "colab": {
          "base_uri": "https://localhost:8080/",
          "height": 311
        },
        "outputId": "20df93db-b054-43bc-9997-d8008bc9bb02"
      },
      "source": [
        "A=np.array([1,1,0,1])\n",
        "A=A.reshape(2,2)\n",
        "print(\"A=\",A)\n",
        "\n",
        "B=np.array([[2,1],[3,4]])\n",
        "print(\"B=\",B)\n",
        "\n",
        "C=A+B\n",
        "print(\"C=\",C)\n",
        "\n",
        "C=np.add(A,B)\n",
        "print(\"C=\",C)\n",
        "\n",
        "C=A-B #np.subtract()\n",
        "print(\"C=\",C)\n",
        "\n",
        "C=A*B# element wise multiplication\n",
        "print(\"C=\",C)\n",
        "\n",
        "C=np.multiply(A,B)\n",
        "print(\"C:\",C)\n",
        "\n",
        "C=np.dot(A,B)# matrix multiplication\n",
        "print(\"C=\",C)"
      ],
      "execution_count": null,
      "outputs": [
        {
          "output_type": "stream",
          "text": [
            "A= [[1 1]\n",
            " [0 1]]\n",
            "B= [[2 1]\n",
            " [3 4]]\n",
            "C= [[3 2]\n",
            " [3 5]]\n",
            "C= [[3 2]\n",
            " [3 5]]\n",
            "C= [[-1  0]\n",
            " [-3 -3]]\n",
            "C= [[2 1]\n",
            " [0 4]]\n",
            "C: [[2 1]\n",
            " [0 4]]\n",
            "C= [[5 5]\n",
            " [3 4]]\n"
          ],
          "name": "stdout"
        }
      ]
    },
    {
      "cell_type": "code",
      "metadata": {
        "id": "r4C3Een9bOft",
        "colab": {
          "base_uri": "https://localhost:8080/",
          "height": 256
        },
        "outputId": "b2f7d086-71a8-474f-f208-d744e7f19f07"
      },
      "source": [
        "C=A/B # np.divide()\n",
        "print(\"C=\",C)\n",
        "\n",
        "C=B**2\n",
        "print(\"C=\",C)\n",
        "\n",
        "C=A<1\n",
        "print(\"C=\",C)\n",
        "\n",
        "C=A.sum(axis=0) # As axis=0, rows will get collaps, hence,column-wise operation\n",
        "print(\"C=\",C)\n",
        "\n",
        "C=A.sum(axis=1) # row-wise operation\n",
        "print(\"C=\",C)\n",
        "\n",
        "C=B.min(axis=0)\n",
        "print(\"C=\",C)\n",
        "\n",
        "C=B.max()# flatten array and then perform operations\n",
        "print(\"C=\",C)\n",
        "\n",
        "C=B.max(axis=1)\n",
        "print(\"C=\",C)\n",
        "\n",
        "C=B.cumsum(axis=1)\n",
        "print(\"C=\",C)"
      ],
      "execution_count": null,
      "outputs": [
        {
          "output_type": "stream",
          "text": [
            "C= [[0.5  1.  ]\n",
            " [0.   0.25]]\n",
            "C= [[ 4  1]\n",
            " [ 9 16]]\n",
            "C= [[False False]\n",
            " [ True False]]\n",
            "C= [1 2]\n",
            "C= [2 1]\n",
            "C= [2 1]\n",
            "C= 4\n",
            "C= [2 4]\n",
            "C= [[2 3]\n",
            " [3 7]]\n"
          ],
          "name": "stdout"
        }
      ]
    },
    {
      "cell_type": "code",
      "metadata": {
        "id": "eFHrH8w8jqSA",
        "colab": {
          "base_uri": "https://localhost:8080/",
          "height": 531
        },
        "outputId": "8f151913-86cc-4293-eb65-11b5ccf547af"
      },
      "source": [
        "# Math Functions\n",
        "C=np.exp(A)\n",
        "print(\"C=\",C)\n",
        "\n",
        "C=np.sqrt(B)\n",
        "print(\"C=\",C)\n",
        "\n",
        "C=np.sin(A)\n",
        "print(\"C=\",C)\n",
        "\n",
        "\n",
        "C=np.mean(A)\n",
        "print(C)\n",
        "\n",
        "C=np.mean(A,axis=0)\n",
        "print(C)\n",
        "\n",
        "\n",
        "C=np.average(A)\n",
        "print(C)\n",
        "\n",
        "C=np.average(A,axis=0)\n",
        "print(C)\n",
        "\n",
        "\n",
        "C=np.std(A)\n",
        "print(C)\n",
        "D=[[0.25,1],[4,3]]\n",
        "print (np.reciprocal(D)) \n",
        "print (np.power(D,2))\n",
        "\n",
        "\n"
      ],
      "execution_count": null,
      "outputs": [
        {
          "output_type": "stream",
          "text": [
            "C= [[0.5  1.  ]\n",
            " [0.   0.25]]\n",
            "C= [[ 4  1]\n",
            " [ 9 16]]\n",
            "C= [[False False]\n",
            " [ True False]]\n",
            "C= [1 2]\n",
            "C= [2 1]\n",
            "C= [2 1]\n",
            "C= 4\n",
            "C= [2 4]\n",
            "C= [[2 3]\n",
            " [3 7]]\n",
            "C= [[2.71828183 2.71828183]\n",
            " [1.         2.71828183]]\n",
            "C= [[1.41421356 1.        ]\n",
            " [1.73205081 2.        ]]\n",
            "C= [[0.84147098 0.84147098]\n",
            " [0.         0.84147098]]\n",
            "0.75\n",
            "[0.5 1. ]\n",
            "0.75\n",
            "[0.5 1. ]\n",
            "0.4330127018922193\n",
            "[[4.         1.        ]\n",
            " [0.25       0.33333333]]\n",
            "[[ 0.0625  1.    ]\n",
            " [16.      9.    ]]\n"
          ],
          "name": "stdout"
        }
      ]
    },
    {
      "cell_type": "code",
      "metadata": {
        "id": "mjn1Cj49LWNm",
        "colab": {
          "base_uri": "https://localhost:8080/",
          "height": 54
        },
        "outputId": "53bc9223-abc3-4049-a934-5bf94ca1d8de"
      },
      "source": [
        "a = np.array([10,20,30]) \n",
        "b = np.array([3,5,7]) \n",
        "print (np.mod(a,b))\n",
        "print (np.remainder(a,b))\n"
      ],
      "execution_count": null,
      "outputs": [
        {
          "output_type": "stream",
          "text": [
            "[1 0 2]\n",
            "[1 0 2]\n"
          ],
          "name": "stdout"
        }
      ]
    },
    {
      "cell_type": "code",
      "metadata": {
        "id": "vAJkzmq0LkQ_",
        "colab": {
          "base_uri": "https://localhost:8080/",
          "height": 109
        },
        "outputId": "d16e50b2-8024-4496-bc03-45c292ed2cd7"
      },
      "source": [
        "a = np.array([-5.6j, 0.2j, 11. , 1+1j]) \n",
        "print (np.real(a) )\n",
        "print (np.imag(a))\n",
        "print (np.conj(a)) \n",
        "print (np.angle(a))\n",
        "print (np.angle(a, deg = True))"
      ],
      "execution_count": null,
      "outputs": [
        {
          "output_type": "stream",
          "text": [
            "[-0.  0. 11.  1.]\n",
            "[-5.6  0.2  0.   1. ]\n",
            "[-0.+5.6j  0.-0.2j 11.-0.j   1.-1.j ]\n",
            "[-1.57079633  1.57079633  0.          0.78539816]\n",
            "[-90.  90.   0.  45.]\n"
          ],
          "name": "stdout"
        }
      ]
    },
    {
      "cell_type": "code",
      "metadata": {
        "id": "R7fsRXK3A36Z",
        "colab": {
          "base_uri": "https://localhost:8080/",
          "height": 127
        },
        "outputId": "b9792079-2197-40b9-a252-758cfa8d2d69"
      },
      "source": [
        "#Normalize the data with zero mean and one standard deviation\n",
        "\n",
        "x=np.arange(4).reshape(2,2)\n",
        "print(x)\n",
        "print(x.mean())\n",
        "print(x.std())\n",
        "x=(x-np.mean(x))/np.std(x)\n",
        "print(x)\n",
        "\n"
      ],
      "execution_count": null,
      "outputs": [
        {
          "output_type": "stream",
          "text": [
            "[[0 1]\n",
            " [2 3]]\n",
            "1.5\n",
            "1.118033988749895\n",
            "[[-1.34164079 -0.4472136 ]\n",
            " [ 0.4472136   1.34164079]]\n"
          ],
          "name": "stdout"
        }
      ]
    },
    {
      "cell_type": "code",
      "metadata": {
        "id": "wF_5GIwUmuWk",
        "colab": {
          "base_uri": "https://localhost:8080/",
          "height": 72
        },
        "outputId": "6fd331e8-605a-4b25-d3fe-4c5dcf537632"
      },
      "source": [
        "B = np.matrix(np.ones((3,3)))\n",
        "B"
      ],
      "execution_count": null,
      "outputs": [
        {
          "output_type": "execute_result",
          "data": {
            "text/plain": [
              "matrix([[1., 1., 1.],\n",
              "        [1., 1., 1.],\n",
              "        [1., 1., 1.]])"
            ]
          },
          "metadata": {
            "tags": []
          },
          "execution_count": 149
        }
      ]
    },
    {
      "cell_type": "code",
      "metadata": {
        "id": "c4qTkV0J9jaW",
        "colab": {
          "base_uri": "https://localhost:8080/",
          "height": 72
        },
        "outputId": "aa0913c8-843f-4d39-f45f-04c555050335"
      },
      "source": [
        "B[1]=2 # matrix are immutable (can't edit)\n",
        "print(B)"
      ],
      "execution_count": null,
      "outputs": [
        {
          "output_type": "stream",
          "text": [
            "[[1. 1. 1.]\n",
            " [2. 2. 2.]\n",
            " [1. 1. 1.]]\n"
          ],
          "name": "stdout"
        }
      ]
    },
    {
      "cell_type": "code",
      "metadata": {
        "id": "dGieoZ5Nriie",
        "colab": {
          "base_uri": "https://localhost:8080/",
          "height": 201
        },
        "outputId": "93241d74-3ea1-462e-aab7-06edb8cc6515"
      },
      "source": [
        "#np.array(A)[2]=2 # Doesn't work because you are modifying a copy \n",
        "A=np.array(B)\n",
        "print(\"A=\",A)\n",
        "A_sub=A[:2,:2]\n",
        "print(\"A_sub=\",A_sub)\n",
        "A_sub[1]=2\n",
        "print(\"Modified A_sub=\",A_sub)\n",
        "print(\"A=\",A)"
      ],
      "execution_count": null,
      "outputs": [
        {
          "output_type": "stream",
          "text": [
            "A= [[1. 1. 1.]\n",
            " [1. 1. 1.]\n",
            " [1. 1. 1.]]\n",
            "A_sub= [[1. 1.]\n",
            " [1. 1.]]\n",
            "Modified A_sub= [[1. 1.]\n",
            " [2. 2.]]\n",
            "A= [[1. 1. 1.]\n",
            " [2. 2. 1.]\n",
            " [1. 1. 1.]]\n"
          ],
          "name": "stdout"
        }
      ]
    },
    {
      "cell_type": "code",
      "metadata": {
        "id": "AYzIYk67sY5n",
        "colab": {
          "base_uri": "https://localhost:8080/",
          "height": 201
        },
        "outputId": "72ae1304-5ca6-49f6-a093-f8dd35549d8b"
      },
      "source": [
        "#np.asarray(A)[2]=2 # It worked because you are modifying A itself\n",
        "C=np.asarray(B)\n",
        "print(\"C=\",C)\n",
        "C_sub=C[:2,:2]\n",
        "print(\"C_sub=\",C_sub)\n",
        "C_sub[1]=2\n",
        "print(\"Modified C_sub=\",C_sub)\n",
        "print(\"C=\",C)"
      ],
      "execution_count": null,
      "outputs": [
        {
          "output_type": "stream",
          "text": [
            "C= [[1. 1. 1.]\n",
            " [1. 1. 1.]\n",
            " [1. 1. 1.]]\n",
            "C_sub= [[1. 1.]\n",
            " [1. 1.]]\n",
            "Modified C_sub= [[1. 1.]\n",
            " [2. 2.]]\n",
            "C= [[1. 1. 1.]\n",
            " [2. 2. 1.]\n",
            " [1. 1. 1.]]\n"
          ],
          "name": "stdout"
        }
      ]
    },
    {
      "cell_type": "code",
      "metadata": {
        "id": "w5PQOnZ-shdn",
        "colab": {
          "base_uri": "https://localhost:8080/",
          "height": 54
        },
        "outputId": "47a8b9d2-7326-47a2-f795-68c9100f1d11"
      },
      "source": [
        "#def asarray(a, dtype=None, order=None):\n",
        "    #return array(a, dtype, copy=False, order=order) \n",
        "    \n",
        "'''numpy.asarray() calls numpy.array() with copy parameter false.\n",
        "numpy.array() may copy the data if copy parameter is not specified, but numpy.asarray() avoids copy'''"
      ],
      "execution_count": null,
      "outputs": [
        {
          "output_type": "execute_result",
          "data": {
            "application/vnd.google.colaboratory.intrinsic+json": {
              "type": "string"
            },
            "text/plain": [
              "'numpy.asarray() calls numpy.array() with copy parameter false.\\nnumpy.array() may copy the data if copy parameter is not specified, but numpy.asarray() avoids copy'"
            ]
          },
          "metadata": {
            "tags": []
          },
          "execution_count": 114
        }
      ]
    },
    {
      "cell_type": "code",
      "metadata": {
        "id": "6aB-WMck04sl",
        "colab": {
          "base_uri": "https://localhost:8080/",
          "height": 90
        },
        "outputId": "fd9baa3f-de6f-4b57-d2e2-aafb6eaa60b6"
      },
      "source": [
        "x = [(1,2,3),(4,5)] \n",
        "b=np.array(x)\n",
        "print(b)\n",
        "b[1]=2\n",
        "print(b)\n",
        "a = np.asarray(x) \n",
        "print (a)\n",
        "a[1]=3\n",
        "print(a)\n"
      ],
      "execution_count": null,
      "outputs": [
        {
          "output_type": "stream",
          "text": [
            "[(1, 2, 3) (4, 5)]\n",
            "[(1, 2, 3) 2]\n",
            "[(1, 2, 3) (4, 5)]\n",
            "[(1, 2, 3) 3]\n"
          ],
          "name": "stdout"
        }
      ]
    },
    {
      "cell_type": "code",
      "metadata": {
        "id": "keYW-Lak1z6E",
        "colab": {
          "base_uri": "https://localhost:8080/",
          "height": 201
        },
        "outputId": "facc4efb-07f0-4402-ee10-1f8b392aca63"
      },
      "source": [
        "A=np.arange(4).reshape(2,2)\n",
        "print('A',A)\n",
        "B=np.ones((2,2),dtype=np.int64)\n",
        "print('B',B)\n",
        "C=np.concatenate([A,B])#by default axis=0\n",
        "print('C',C)\n",
        "\n",
        "D=np.concatenate([A,B],axis=1)\n",
        "print('D',D)"
      ],
      "execution_count": null,
      "outputs": [
        {
          "output_type": "stream",
          "text": [
            "A [[0 1]\n",
            " [2 3]]\n",
            "B [[1 1]\n",
            " [1 1]]\n",
            "C [[0 1]\n",
            " [2 3]\n",
            " [1 1]\n",
            " [1 1]]\n",
            "D [[0 1 1 1]\n",
            " [2 3 1 1]]\n"
          ],
          "name": "stdout"
        }
      ]
    },
    {
      "cell_type": "code",
      "metadata": {
        "id": "KGfMFq4Y5Z33",
        "colab": {
          "base_uri": "https://localhost:8080/",
          "height": 72
        },
        "outputId": "c608222e-9375-4296-8faf-51ecb6f0ae2a"
      },
      "source": [
        "x = np.array([1, 2, 3])\n",
        "y = np.array([[4, 5, 6],\n",
        "                 [7, 8, 9]])\n",
        "\n",
        "# vertically stack the arrays\n",
        "np.vstack([x, y])"
      ],
      "execution_count": null,
      "outputs": [
        {
          "output_type": "execute_result",
          "data": {
            "text/plain": [
              "array([[1, 2, 3],\n",
              "       [4, 5, 6],\n",
              "       [7, 8, 9]])"
            ]
          },
          "metadata": {
            "tags": []
          },
          "execution_count": 140
        }
      ]
    },
    {
      "cell_type": "code",
      "metadata": {
        "id": "zZoMoKRR6yVQ",
        "colab": {
          "base_uri": "https://localhost:8080/",
          "height": 54
        },
        "outputId": "03a6e4f3-105c-415d-e672-0ea8aacd6074"
      },
      "source": [
        "z=np.array([[10],[10]])\n",
        "np.hstack([y, z])"
      ],
      "execution_count": null,
      "outputs": [
        {
          "output_type": "execute_result",
          "data": {
            "text/plain": [
              "array([[ 4,  5,  6, 10],\n",
              "       [ 7,  8,  9, 10]])"
            ]
          },
          "metadata": {
            "tags": []
          },
          "execution_count": 141
        }
      ]
    },
    {
      "cell_type": "code",
      "metadata": {
        "id": "0UP_wKXT7GYN",
        "colab": {
          "base_uri": "https://localhost:8080/",
          "height": 54
        },
        "outputId": "7f3f515d-ab66-4a12-9f4b-1d56f0b7bc02"
      },
      "source": [
        "x = np.arange(9)\n",
        "print(x)\n",
        "x1, x2, x3 = np.split(x, [3, 5])\n",
        "print(x1, x2, x3)"
      ],
      "execution_count": null,
      "outputs": [
        {
          "output_type": "stream",
          "text": [
            "[0 1 2 3 4 5 6 7 8]\n",
            "[0 1 2] [3 4] [5 6 7 8]\n"
          ],
          "name": "stdout"
        }
      ]
    },
    {
      "cell_type": "code",
      "metadata": {
        "id": "TLX3K8yx7P-a",
        "colab": {
          "base_uri": "https://localhost:8080/",
          "height": 90
        },
        "outputId": "e82a59fb-5603-4098-8397-f3ffe342869a"
      },
      "source": [
        "A = np.arange(16).reshape((4, 4))\n",
        "A"
      ],
      "execution_count": null,
      "outputs": [
        {
          "output_type": "execute_result",
          "data": {
            "text/plain": [
              "array([[ 0,  1,  2,  3],\n",
              "       [ 4,  5,  6,  7],\n",
              "       [ 8,  9, 10, 11],\n",
              "       [12, 13, 14, 15]])"
            ]
          },
          "metadata": {
            "tags": []
          },
          "execution_count": 144
        }
      ]
    },
    {
      "cell_type": "code",
      "metadata": {
        "id": "lsPNvDrD72Se",
        "colab": {
          "base_uri": "https://localhost:8080/",
          "height": 90
        },
        "outputId": "aa7e7980-0903-4dc5-8547-8d36a5dfa3d2"
      },
      "source": [
        "u, l = np.vsplit(A, [2])# row-wise\n",
        "print(u)\n",
        "print(l)"
      ],
      "execution_count": null,
      "outputs": [
        {
          "output_type": "stream",
          "text": [
            "[[0 1 2 3]\n",
            " [4 5 6 7]]\n",
            "[[ 8  9 10 11]\n",
            " [12 13 14 15]]\n"
          ],
          "name": "stdout"
        }
      ]
    },
    {
      "cell_type": "code",
      "metadata": {
        "id": "U77AFZkv8CYT",
        "colab": {
          "base_uri": "https://localhost:8080/",
          "height": 164
        },
        "outputId": "1eef8426-73ae-4a92-c824-00b3d6bc548e"
      },
      "source": [
        "B = np.arange(16).reshape((4, 4))\n",
        "u, l = np.hsplit(B, [2])# column-wise\n",
        "print(u)\n",
        "print(l)"
      ],
      "execution_count": null,
      "outputs": [
        {
          "output_type": "stream",
          "text": [
            "[[ 0  1]\n",
            " [ 4  5]\n",
            " [ 8  9]\n",
            " [12 13]]\n",
            "[[ 2  3]\n",
            " [ 6  7]\n",
            " [10 11]\n",
            " [14 15]]\n"
          ],
          "name": "stdout"
        }
      ]
    },
    {
      "cell_type": "code",
      "metadata": {
        "id": "XSww2rzR8D61",
        "colab": {
          "base_uri": "https://localhost:8080/",
          "height": 72
        },
        "outputId": "e31f8a92-bb01-4db3-b2e0-154a0166fadb"
      },
      "source": [
        "a = np.array([np.nan, 1,2,np.nan,3,4,5]) \n",
        "print(a)\n",
        "b=a[~np.isnan(a)]#exclude nan\n",
        "print (b) \n",
        "\n",
        "c=b[b>3]\n",
        "print(c)"
      ],
      "execution_count": null,
      "outputs": [
        {
          "output_type": "stream",
          "text": [
            "[nan  1.  2. nan  3.  4.  5.]\n",
            "[1. 2. 3. 4. 5.]\n",
            "[4. 5.]\n"
          ],
          "name": "stdout"
        }
      ]
    },
    {
      "cell_type": "code",
      "metadata": {
        "id": "3ZgbuFlaEpYy",
        "colab": {
          "base_uri": "https://localhost:8080/",
          "height": 109
        },
        "outputId": "899dd268-7036-43ad-a47a-39d12f257116"
      },
      "source": [
        "#Broadcasting\n",
        "\n",
        "a=np.arange(4).reshape(2,2)\n",
        "b=np.array([1,2])\n",
        "c=a+b\n",
        "print(\"a:\",a,\"\\n\",\"b:\",b,\"\\n\",\"c:\",c)"
      ],
      "execution_count": null,
      "outputs": [
        {
          "output_type": "stream",
          "text": [
            "a: [[0 1]\n",
            " [2 3]] \n",
            " b: [1 2] \n",
            " c: [[1 3]\n",
            " [3 5]]\n"
          ],
          "name": "stdout"
        }
      ]
    },
    {
      "cell_type": "code",
      "metadata": {
        "id": "NEJy91CzG2e9",
        "colab": {
          "base_uri": "https://localhost:8080/",
          "height": 54
        },
        "outputId": "d0f12671-7638-49e2-ca2a-3be48122c9bb"
      },
      "source": [
        "#Array Manipulation\n",
        "\n",
        "A=np.arange(4).reshape(2,2)\n",
        "print('A',A)"
      ],
      "execution_count": null,
      "outputs": [
        {
          "output_type": "stream",
          "text": [
            "A [[0 1]\n",
            " [2 3]]\n"
          ],
          "name": "stdout"
        }
      ]
    },
    {
      "cell_type": "code",
      "metadata": {
        "id": "g4Rnwa5BFfoa",
        "colab": {
          "base_uri": "https://localhost:8080/",
          "height": 35
        },
        "outputId": "f8ce973b-3671-4a9f-dbc5-a1334a1a55ae"
      },
      "source": [
        "print (A.flat[3])#returns element corresponding to index in flattened array \n"
      ],
      "execution_count": null,
      "outputs": [
        {
          "output_type": "stream",
          "text": [
            "3\n"
          ],
          "name": "stdout"
        }
      ]
    },
    {
      "cell_type": "code",
      "metadata": {
        "id": "d0yfGFJWW952",
        "colab": {
          "base_uri": "https://localhost:8080/",
          "height": 35
        },
        "outputId": "483c65a9-33fe-44d3-878e-f08c83274229"
      },
      "source": [
        "print (A.flatten())"
      ],
      "execution_count": null,
      "outputs": [
        {
          "output_type": "stream",
          "text": [
            "[0 1 2 3]\n"
          ],
          "name": "stdout"
        }
      ]
    },
    {
      "cell_type": "code",
      "metadata": {
        "id": "KnGqb7NGXVGh",
        "colab": {
          "base_uri": "https://localhost:8080/",
          "height": 35
        },
        "outputId": "9f0822f6-7cb1-44e6-9aef-902c2985c60f"
      },
      "source": [
        "print (A.ravel())\n"
      ],
      "execution_count": null,
      "outputs": [
        {
          "output_type": "stream",
          "text": [
            "[0 1 2 3]\n"
          ],
          "name": "stdout"
        }
      ]
    },
    {
      "cell_type": "code",
      "metadata": {
        "id": "-v-AWRx3XuQM",
        "colab": {
          "base_uri": "https://localhost:8080/",
          "height": 54
        },
        "outputId": "d2f09f23-7779-42a7-c048-b066446429fd"
      },
      "source": [
        "print (np.transpose(A))"
      ],
      "execution_count": null,
      "outputs": [
        {
          "output_type": "stream",
          "text": [
            "[[0 2]\n",
            " [1 3]]\n"
          ],
          "name": "stdout"
        }
      ]
    },
    {
      "cell_type": "code",
      "metadata": {
        "id": "BEczIML8Zq25",
        "colab": {
          "base_uri": "https://localhost:8080/",
          "height": 54
        },
        "outputId": "e506886e-b882-46ef-aa73-57b1ff062392"
      },
      "source": [
        "print (A.T)"
      ],
      "execution_count": null,
      "outputs": [
        {
          "output_type": "stream",
          "text": [
            "[[0 2]\n",
            " [1 3]]\n"
          ],
          "name": "stdout"
        }
      ]
    },
    {
      "cell_type": "code",
      "metadata": {
        "id": "39udBSRlZ06_",
        "colab": {
          "base_uri": "https://localhost:8080/",
          "height": 35
        },
        "outputId": "1a17c69a-6d6e-4cfd-e329-6ebd4a17a001"
      },
      "source": [
        "B = np.arange(2).reshape(1,2) \n",
        "print(B)"
      ],
      "execution_count": null,
      "outputs": [
        {
          "output_type": "stream",
          "text": [
            "[[0 1]]\n"
          ],
          "name": "stdout"
        }
      ]
    },
    {
      "cell_type": "code",
      "metadata": {
        "id": "ou2fjoThaADL",
        "colab": {
          "base_uri": "https://localhost:8080/",
          "height": 54
        },
        "outputId": "994a4c48-c67b-4d19-8b85-02001f87c038"
      },
      "source": [
        "print (np.broadcast_to(B,(2,2)))"
      ],
      "execution_count": null,
      "outputs": [
        {
          "output_type": "stream",
          "text": [
            "[[0 1]\n",
            " [0 1]]\n"
          ],
          "name": "stdout"
        }
      ]
    },
    {
      "cell_type": "code",
      "metadata": {
        "id": "82EmUB4Hen9F",
        "colab": {
          "base_uri": "https://localhost:8080/",
          "height": 90
        },
        "outputId": "0deec933-fe23-463c-85b0-164f5df2b134"
      },
      "source": [
        "D=np.arange(16).reshape(4,4)\n",
        "print(D)"
      ],
      "execution_count": null,
      "outputs": [
        {
          "output_type": "stream",
          "text": [
            "[[ 0  1  2  3]\n",
            " [ 4  5  6  7]\n",
            " [ 8  9 10 11]\n",
            " [12 13 14 15]]\n"
          ],
          "name": "stdout"
        }
      ]
    },
    {
      "cell_type": "code",
      "metadata": {
        "id": "wFDJwFGcbDF7",
        "colab": {
          "base_uri": "https://localhost:8080/",
          "height": 109
        },
        "outputId": "9f4c46ed-e93b-402c-a6cb-c6a38bdfd482"
      },
      "source": [
        "C= np.expand_dims(D, axis = 0)\n",
        "print(C)\n",
        "print(D.shape,C.shape)"
      ],
      "execution_count": null,
      "outputs": [
        {
          "output_type": "stream",
          "text": [
            "[[[ 0  1  2  3]\n",
            "  [ 4  5  6  7]\n",
            "  [ 8  9 10 11]\n",
            "  [12 13 14 15]]]\n",
            "(4, 4) (1, 4, 4)\n"
          ],
          "name": "stdout"
        }
      ]
    },
    {
      "cell_type": "code",
      "metadata": {
        "id": "XpNbrieqfOtQ",
        "colab": {
          "base_uri": "https://localhost:8080/",
          "height": 109
        },
        "outputId": "e3095a0d-a664-4f3d-ee20-f722db851716"
      },
      "source": [
        "E = np.squeeze(C)\n",
        "print(E)\n",
        "print(E.shape)"
      ],
      "execution_count": null,
      "outputs": [
        {
          "output_type": "stream",
          "text": [
            "[[ 0  1  2  3]\n",
            " [ 4  5  6  7]\n",
            " [ 8  9 10 11]\n",
            " [12 13 14 15]]\n",
            "(4, 4)\n"
          ],
          "name": "stdout"
        }
      ]
    },
    {
      "cell_type": "code",
      "metadata": {
        "id": "2mK6t-jmeBIa",
        "colab": {
          "base_uri": "https://localhost:8080/",
          "height": 164
        },
        "outputId": "37e488fc-0084-408e-ac26-6844c9261d7e"
      },
      "source": [
        "C= np.expand_dims(D, axis = 1)\n",
        "print(C)\n",
        "print(D.shape,C.shape)"
      ],
      "execution_count": null,
      "outputs": [
        {
          "output_type": "stream",
          "text": [
            "[[[ 0  1  2  3]]\n",
            "\n",
            " [[ 4  5  6  7]]\n",
            "\n",
            " [[ 8  9 10 11]]\n",
            "\n",
            " [[12 13 14 15]]]\n",
            "(4, 4) (4, 1, 4)\n"
          ],
          "name": "stdout"
        }
      ]
    },
    {
      "cell_type": "code",
      "metadata": {
        "id": "92GVF5TYeSBD",
        "colab": {
          "base_uri": "https://localhost:8080/",
          "height": 127
        },
        "outputId": "e72f31bc-6067-4ff2-c494-5499ca155a6e"
      },
      "source": [
        "A = np.array([[1,2,3],[4,5,6]]) \n",
        "\n",
        "print (np.append(A, [7,8,9]))#flatten before operation if axis not mentioned\n",
        "\n",
        "print (np.append(A, [[7,8,9]],axis = 0) )\n",
        "\n",
        "print (np.append(A, [[1,2,3],[4,5,6]],axis = 1))"
      ],
      "execution_count": null,
      "outputs": [
        {
          "output_type": "stream",
          "text": [
            "[1 2 3 4 5 6 7 8 9]\n",
            "[[1 2 3]\n",
            " [4 5 6]\n",
            " [7 8 9]]\n",
            "[[1 2 3 1 2 3]\n",
            " [4 5 6 4 5 6]]\n"
          ],
          "name": "stdout"
        }
      ]
    },
    {
      "cell_type": "code",
      "metadata": {
        "id": "mhvJEyIGgbgX",
        "colab": {
          "base_uri": "https://localhost:8080/",
          "height": 219
        },
        "outputId": "1d134590-16a8-4644-b4d0-16f61a29c97e"
      },
      "source": [
        "B = np.array([[1,2],[3,4],[5,6]]) \n",
        "\n",
        "print (B) \n",
        "print (np.insert(B,3,[7,8])) \n",
        "print (np.insert(B,1,[7],axis = 0))\n",
        "print (np.insert(B,2,7,axis = 1))"
      ],
      "execution_count": null,
      "outputs": [
        {
          "output_type": "stream",
          "text": [
            "[[1 2]\n",
            " [3 4]\n",
            " [5 6]]\n",
            "[1 2 3 7 8 4 5 6]\n",
            "[[1 2]\n",
            " [7 7]\n",
            " [3 4]\n",
            " [5 6]]\n",
            "[[1 2 7]\n",
            " [3 4 7]\n",
            " [5 6 7]]\n"
          ],
          "name": "stdout"
        }
      ]
    },
    {
      "cell_type": "code",
      "metadata": {
        "id": "r9-l8du4CYp3",
        "colab": {
          "base_uri": "https://localhost:8080/",
          "height": 127
        },
        "outputId": "3fc2eaa9-6ed8-4c52-e225-fb053ee2c021"
      },
      "source": [
        "print (np.delete(B,3)) # flatten before operation\n",
        "print (np.delete(B,1,axis = 0))#delete row\n",
        "print (np.delete(B,1,axis = 1))# delete column"
      ],
      "execution_count": null,
      "outputs": [
        {
          "output_type": "stream",
          "text": [
            "[1 2 3 5 6]\n",
            "[[1 2]\n",
            " [5 6]]\n",
            "[[1]\n",
            " [3]\n",
            " [5]]\n"
          ],
          "name": "stdout"
        }
      ]
    },
    {
      "cell_type": "code",
      "metadata": {
        "id": "vVNHx29bCZ-6",
        "colab": {
          "base_uri": "https://localhost:8080/",
          "height": 72
        },
        "outputId": "31aee3ab-ef5a-46b2-b5ae-f0e7e47dc86e"
      },
      "source": [
        "C = np.array([1,2,3,4,5,4,5,6]) \n",
        "un,count = np.unique(C,return_counts = True)\n",
        "print(un,count)\n",
        "ua,indices = np.unique(C, return_index = True) \n",
        "print(ua,indices)\n",
        "\n",
        "uc,indices_rev = np.unique(C,return_inverse = True) \n",
        "print(uc,indices_rev)"
      ],
      "execution_count": null,
      "outputs": [
        {
          "output_type": "stream",
          "text": [
            "[1 2 3 4 5 6] [1 1 1 2 2 1]\n",
            "[1 2 3 4 5 6] [0 1 2 3 4 7]\n",
            "[1 2 3 4 5 6] [0 1 2 3 4 3 4 5]\n"
          ],
          "name": "stdout"
        }
      ]
    },
    {
      "cell_type": "code",
      "metadata": {
        "id": "UjUBmOVpDkT9",
        "colab": {
          "base_uri": "https://localhost:8080/",
          "height": 72
        },
        "outputId": "2f420e11-4978-41b1-de40-8c8d5b4632f4"
      },
      "source": [
        "#Bitwise operations\n",
        "a,b = 2,3\n",
        "print (bin(a), bin(b))\n",
        "print ('Bitwise AND of 2 and 3:',np.bitwise_and(2, 3) )\n",
        "print ('Bitwise OR of 2 and 3:',np.bitwise_or(2, 3) )"
      ],
      "execution_count": null,
      "outputs": [
        {
          "output_type": "stream",
          "text": [
            "0b10 0b11\n",
            "Bitwise AND of 2 and 3: 2\n",
            "Bitwise OR of 2 and 3: 3\n"
          ],
          "name": "stdout"
        }
      ]
    },
    {
      "cell_type": "code",
      "metadata": {
        "id": "wLbd8-SYFIT9",
        "colab": {
          "base_uri": "https://localhost:8080/",
          "height": 72
        },
        "outputId": "91797ef9-a3a9-4211-8af0-0c29fe0d529a"
      },
      "source": [
        "print (np.binary_repr(8, width = 8))\n",
        "print (np.invert(np.array([8], dtype = np.uint8)))\n",
        "print (np.binary_repr(247, width = 8))"
      ],
      "execution_count": null,
      "outputs": [
        {
          "output_type": "stream",
          "text": [
            "00001000\n",
            "[247]\n",
            "11110111\n"
          ],
          "name": "stdout"
        }
      ]
    },
    {
      "cell_type": "code",
      "metadata": {
        "id": "jY2Vv-b4FtoX",
        "colab": {
          "base_uri": "https://localhost:8080/",
          "height": 72
        },
        "outputId": "da11623f-cff0-44e4-8bdd-ab8bc1e68cec"
      },
      "source": [
        "print(np.binary_repr(8,width=8))\n",
        "print (np.left_shift(8,2))\n",
        "print(np.binary_repr(32,width=8))"
      ],
      "execution_count": null,
      "outputs": [
        {
          "output_type": "stream",
          "text": [
            "00001000\n",
            "32\n",
            "00100000\n"
          ],
          "name": "stdout"
        }
      ]
    },
    {
      "cell_type": "code",
      "metadata": {
        "id": "Uc1C9Vf8GiVv",
        "colab": {
          "base_uri": "https://localhost:8080/",
          "height": 54
        },
        "outputId": "a1980a4a-974a-4d16-d149-a2a5a84ca3a1"
      },
      "source": [
        "print (np.right_shift(8,2))\n",
        "print(np.binary_repr(2,width=8))"
      ],
      "execution_count": null,
      "outputs": [
        {
          "output_type": "stream",
          "text": [
            "2\n",
            "00000010\n"
          ],
          "name": "stdout"
        }
      ]
    },
    {
      "cell_type": "code",
      "metadata": {
        "id": "Gr0VejEhGqFD",
        "colab": {
          "base_uri": "https://localhost:8080/",
          "height": 54
        },
        "outputId": "70f31f1e-4501-4c9d-f990-462436208895"
      },
      "source": [
        "#String functions\n",
        "print (np.char.add(['jayant'],['jagtap']))#np.char is equivalent to str. in python\n",
        "print (np.char.multiply('jay ',3))"
      ],
      "execution_count": null,
      "outputs": [
        {
          "output_type": "stream",
          "text": [
            "['jayantjagtap']\n",
            "jay jay jay \n"
          ],
          "name": "stdout"
        }
      ]
    },
    {
      "cell_type": "code",
      "metadata": {
        "id": "xwrgAEoHHdQO",
        "colab": {
          "base_uri": "https://localhost:8080/",
          "height": 72
        },
        "outputId": "227d8a2a-39b6-477a-b423-f1bed6399950"
      },
      "source": [
        "#Math functions\n",
        "a = np.array([0,30,45,60,90]) \n",
        "b=np.sin(a*np.pi/180)\n",
        "print (b)\n",
        "print (np.arcsin(b)*(180/np.pi))#inverse sin\n",
        "print(np.degrees(np.arcsin(b)) )"
      ],
      "execution_count": null,
      "outputs": [
        {
          "output_type": "stream",
          "text": [
            "[0.         0.5        0.70710678 0.8660254  1.        ]\n",
            "[ 0. 30. 45. 60. 90.]\n",
            "[ 0. 30. 45. 60. 90.]\n"
          ],
          "name": "stdout"
        }
      ]
    },
    {
      "cell_type": "code",
      "metadata": {
        "id": "F13mcb-pIFc2",
        "colab": {
          "base_uri": "https://localhost:8080/",
          "height": 72
        },
        "outputId": "20b007db-4cd4-4da0-9599-77d60324602e"
      },
      "source": [
        "print (np.around(b) )\n",
        "print (np.around(b, decimals = 2) )\n",
        "c=np.array([10.2,25.7])\n",
        "print (np.around(c, decimals = -1))"
      ],
      "execution_count": null,
      "outputs": [
        {
          "output_type": "stream",
          "text": [
            "[0. 0. 1. 1. 1.]\n",
            "[0.   0.5  0.71 0.87 1.  ]\n",
            "[10. 30.]\n"
          ],
          "name": "stdout"
        }
      ]
    },
    {
      "cell_type": "code",
      "metadata": {
        "id": "WxF7_gYBJbeD",
        "colab": {
          "base_uri": "https://localhost:8080/",
          "height": 54
        },
        "outputId": "9d7cad3d-2c43-41d3-b25f-61789bc41944"
      },
      "source": [
        "print (np.floor(b) )\n",
        "print (np.ceil(b) )"
      ],
      "execution_count": null,
      "outputs": [
        {
          "output_type": "stream",
          "text": [
            "[0. 0. 0. 0. 1.]\n",
            "[0. 1. 1. 1. 1.]\n"
          ],
          "name": "stdout"
        }
      ]
    },
    {
      "cell_type": "code",
      "metadata": {
        "id": "MSALlIxUJtTN",
        "colab": {
          "base_uri": "https://localhost:8080/",
          "height": 146
        },
        "outputId": "c243620c-d16b-4f39-983c-4f450bfe009f"
      },
      "source": [
        "#Sort search and count\n",
        "a = np.array([[3,7],[9,1]])\n",
        "print('a:',a)\n",
        "print (np.sort(a) )\n",
        "print (np.sort(a, axis = 0))\n",
        "dt = np.dtype([('name', 'S10'),('age', int)]) \n",
        "a = np.array([(\"raju\",21),(\"anil\",25),(\"ravi\", 17), (\"amar\",27)], dtype = dt)\n",
        "print(np.sort(a,order='name'))"
      ],
      "execution_count": null,
      "outputs": [
        {
          "output_type": "stream",
          "text": [
            "a: [[3 7]\n",
            " [9 1]]\n",
            "[[3 7]\n",
            " [1 9]]\n",
            "[[3 1]\n",
            " [9 7]]\n",
            "[(b'amar', 27) (b'anil', 25) (b'raju', 21) (b'ravi', 17)]\n"
          ],
          "name": "stdout"
        }
      ]
    },
    {
      "cell_type": "code",
      "metadata": {
        "id": "KwOi1ZYPoRqM",
        "colab": {
          "base_uri": "https://localhost:8080/",
          "height": 72
        },
        "outputId": "8a00606f-ba47-42f5-9270-40dbb98eed0d"
      },
      "source": [
        "a = np.array([[1,2,0],[3,0,4]]) \n",
        "print ('a:',a )\n",
        "print (np.nonzero (a))#returns the indices of non-zero elements in the input array"
      ],
      "execution_count": null,
      "outputs": [
        {
          "output_type": "stream",
          "text": [
            "a: [[1 2 0]\n",
            " [3 0 4]]\n",
            "(array([0, 0, 1, 1]), array([0, 1, 0, 2]))\n"
          ],
          "name": "stdout"
        }
      ]
    },
    {
      "cell_type": "code",
      "metadata": {
        "id": "LX9aIq5W9qmG",
        "colab": {
          "base_uri": "https://localhost:8080/",
          "height": 295
        },
        "outputId": "7f22c7be-f423-40cf-ae06-e07b34645002"
      },
      "source": [
        "#import matplotlib.pyplot as plt\n",
        "from matplotlib import pyplot as plt\n",
        "x = np.arange(1,10) \n",
        "y = 4 * x +3\n",
        "plt.title(\"line equation\") \n",
        "plt.xlabel(\"x\") \n",
        "plt.ylabel(\"y\") \n",
        "plt.plot(x,y) \n",
        "plt.show()"
      ],
      "execution_count": null,
      "outputs": [
        {
          "output_type": "display_data",
          "data": {
            "image/png": "[encoded data removed]",
            "text/plain": [
              "<Figure size 432x288 with 1 Axes>"
            ]
          },
          "metadata": {
            "tags": [],
            "needs_background": "light"
          }
        }
      ]
    },
    {
      "cell_type": "code",
      "metadata": {
        "id": "c85dgQG9Amup",
        "colab": {
          "base_uri": "https://localhost:8080/",
          "height": 313
        },
        "outputId": "c0f5af98-52b0-4e3d-dff4-acba36dd3f91"
      },
      "source": [
        "plt.title(\"Matplotlib demo\") \n",
        "plt.xlabel(\"x axis caption\") \n",
        "plt.ylabel(\"y axis caption\") \n",
        "plt.plot(x,y,'*k')"
      ],
      "execution_count": null,
      "outputs": [
        {
          "output_type": "execute_result",
          "data": {
            "text/plain": [
              "[<matplotlib.lines.Line2D at 0x7fd3b6567278>]"
            ]
          },
          "metadata": {
            "tags": []
          },
          "execution_count": 45
        },
        {
          "output_type": "display_data",
          "data": {
            "image/png": "[encoded data removed]",
            "text/plain": [
              "<Figure size 432x288 with 1 Axes>"
            ]
          },
          "metadata": {
            "tags": [],
            "needs_background": "light"
          }
        }
      ]
    },
    {
      "cell_type": "code",
      "metadata": {
        "id": "w43KlBoVBJ-F",
        "colab": {
          "base_uri": "https://localhost:8080/",
          "height": 295
        },
        "outputId": "db0ac2a8-cb1b-4a0c-ccce-d34ba0c9beca"
      },
      "source": [
        "t = np.arange(0, 4 * np.pi, 0.1) \n",
        "x = np.sin(t) \n",
        "plt.title(\"sine signal\") \n",
        "plt.xlabel(\"t\") \n",
        "plt.ylabel(\"x(t)\") \n",
        "plt.plot(t, x,'m') \n",
        "plt.show() "
      ],
      "execution_count": null,
      "outputs": [
        {
          "output_type": "display_data",
          "data": {
            "image/png": "[encoded data removed]",
            "text/plain": [
              "<Figure size 432x288 with 1 Axes>"
            ]
          },
          "metadata": {
            "tags": [],
            "needs_background": "light"
          }
        }
      ]
    },
    {
      "cell_type": "code",
      "metadata": {
        "id": "iLtl-OvJErSR",
        "colab": {
          "base_uri": "https://localhost:8080/",
          "height": 337
        },
        "outputId": "fb0061f4-baf7-4079-8fa3-7390f643adb2"
      },
      "source": [
        "y = np.cos(t)  \n",
        "plt.subplot(2, 1, 1)\n",
        "plt.title(\"sine signal\") \n",
        "plt.xlabel(\"t\") \n",
        "plt.ylabel(\"x(t)\") \n",
        "plt.plot(t, x,'m') \n",
        "plt.show() \n",
        "plt.subplot(2, 1, 2)\n",
        "plt.title(\"cos signal\") \n",
        "plt.xlabel(\"t\") \n",
        "plt.ylabel(\"y(t)\") \n",
        "plt.plot(t, y,'c') \n",
        "plt.show() \n"
      ],
      "execution_count": null,
      "outputs": [
        {
          "output_type": "display_data",
          "data": {
            "image/png": "[encoded data removed]",
            "text/plain": [
              "<Figure size 432x288 with 1 Axes>"
            ]
          },
          "metadata": {
            "tags": [],
            "needs_background": "light"
          }
        },
        {
          "output_type": "display_data",
          "data": {
            "image/png": "[encoded data removed]",
            "text/plain": [
              "<Figure size 432x288 with 1 Axes>"
            ]
          },
          "metadata": {
            "tags": [],
            "needs_background": "light"
          }
        }
      ]
    },
    {
      "cell_type": "code",
      "metadata": {
        "id": "KJp418l4KBgU",
        "colab": {
          "base_uri": "https://localhost:8080/",
          "height": 295
        },
        "outputId": "0caf1621-a880-4066-e560-f0c7b7816711"
      },
      "source": [
        "t = np.arange(0, 4 * np.pi, 0.1) \n",
        "x = np.sin(t) \n",
        "y = np.cos(t)  \n",
        "plt.plot(t, x,'m') \n",
        "plt.title('sine and cos')\n",
        "plt.xlabel(\"t\") \n",
        "plt.ylabel(\"y(t)\") \n",
        "plt.plot(t, y,'c') \n",
        "plt.legend(['sine','cos'],loc =\"lower left\") \n",
        "plt.show() \n"
      ],
      "execution_count": null,
      "outputs": [
        {
          "output_type": "display_data",
          "data": {
            "image/png": "[encoded data removed]",
            "text/plain": [
              "<Figure size 432x288 with 1 Axes>"
            ]
          },
          "metadata": {
            "tags": [],
            "needs_background": "light"
          }
        }
      ]
    },
    {
      "cell_type": "code",
      "metadata": {
        "id": "q3_s9PM_FMdJ",
        "colab": {
          "base_uri": "https://localhost:8080/",
          "height": 295
        },
        "outputId": "f9da7f0f-f825-4071-9991-d169641bcd20"
      },
      "source": [
        "x = [5,8,10] \n",
        "y = [12,16,6]  \n",
        "\n",
        "x2 = [6,9,11] \n",
        "y2 = [6,15,7] \n",
        "plt.bar(x, y, align = 'center') \n",
        "plt.bar(x2, y2, color = 'c', align = 'center') \n",
        "plt.title('Bar graph') \n",
        "plt.ylabel('y') \n",
        "plt.xlabel('x')  \n",
        "plt.legend(['y','y2'],loc =\"upper right\") \n",
        "plt.show()"
      ],
      "execution_count": null,
      "outputs": [
        {
          "output_type": "display_data",
          "data": {
            "image/png": "[encoded data removed]",
            "text/plain": [
              "<Figure size 432x288 with 1 Axes>"
            ]
          },
          "metadata": {
            "tags": [],
            "needs_background": "light"
          }
        }
      ]
    },
    {
      "cell_type": "code",
      "metadata": {
        "id": "1cX_yvipF1ec",
        "colab": {
          "base_uri": "https://localhost:8080/",
          "height": 54
        },
        "outputId": "a776d682-bfaa-4f0b-8263-5eb495024913"
      },
      "source": [
        "a = np.array([22,87,5,43,56,73,55,54,11,20,51,5,79,31,27]) \n",
        "bins = [0,20,40,60,80,100]\n",
        "np.histogram(a,bins) \n",
        "hist,bins = np.histogram(a,bins) \n",
        "print (hist) \n",
        "print (bins) "
      ],
      "execution_count": null,
      "outputs": [
        {
          "output_type": "stream",
          "text": [
            "[3 4 5 2 1]\n",
            "[  0  20  40  60  80 100]\n"
          ],
          "name": "stdout"
        }
      ]
    },
    {
      "cell_type": "code",
      "metadata": {
        "id": "doWuADcXF9RG",
        "colab": {
          "base_uri": "https://localhost:8080/",
          "height": 281
        },
        "outputId": "bf295be9-1473-4e23-8ab2-db7c2d234525"
      },
      "source": [
        "plt.hist(a, bins,align='mid', width=10) \n",
        "plt.title(\"histogram\") \n",
        "plt.show()"
      ],
      "execution_count": null,
      "outputs": [
        {
          "output_type": "display_data",
          "data": {
            "image/png": "[encoded data removed]",
            "text/plain": [
              "<Figure size 432x288 with 1 Axes>"
            ]
          },
          "metadata": {
            "tags": [],
            "needs_background": "light"
          }
        }
      ]
    },
    {
      "cell_type": "code",
      "metadata": {
        "id": "Hyc3RMMqGd_Q"
      },
      "source": [
        "# take a numpy array using np.arange, count the repetation using np.unique and plot it. compare the result with np.histogram"
      ],
      "execution_count": null,
      "outputs": []
    }
  ]
}